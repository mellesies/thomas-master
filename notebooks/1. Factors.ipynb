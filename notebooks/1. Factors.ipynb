{
 "cells": [
  {
   "cell_type": "markdown",
   "metadata": {},
   "source": [
    "# 1. Factors"
   ]
  },
  {
   "cell_type": "code",
   "execution_count": 1,
   "metadata": {},
   "outputs": [
    {
     "name": "stdout",
     "output_type": "stream",
     "text": [
      "The autoreload extension is already loaded. To reload it, use:\n",
      "  %reload_ext autoreload\n",
      "available imports:\n",
      "  import os\n",
      "  import logging\n",
      "  import pandas as pd\n",
      "  import numpy as np\n",
      "\n",
      "connect to this kernel with:\n",
      "  jupyter console --existing 8b59cbb9-caff-4d5e-9649-41cd060269db\n",
      "\n",
      "Logging to : \"/Users/melle/software-development/thomas-master/logs/1. Factors.log\"\n"
     ]
    }
   ],
   "source": [
    "%run '_preamble.ipynb'"
   ]
  },
  {
   "cell_type": "code",
   "execution_count": 2,
   "metadata": {},
   "outputs": [],
   "source": [
    "from thomas.core import Factor\n",
    "\n",
    "from IPython.display import display, HTML"
   ]
  },
  {
   "cell_type": "code",
   "execution_count": 3,
   "metadata": {},
   "outputs": [],
   "source": [
    "# Create the Factors for the Sprinkler network. \n",
    "# Note that the order in which the states are defined is important. \n",
    "# As such, this will only work in Python ≥ 3.6!          ^^^^^^^^^\n",
    "\n",
    "# P(A)\n",
    "fA = Factor(\n",
    "    [0.6, 0.4], \n",
    "    {'A': ['a1', 'a0']}\n",
    ")\n",
    "\n",
    "# P(B|A)\n",
    "fB_A = Factor(\n",
    "    [0.2, 0.8, 0.75, 0.25], \n",
    "    {'A': ['a1', 'a0'],'B': ['b1', 'b0']}\n",
    ")\n",
    "\n",
    "# P(C|A)\n",
    "fC_A = Factor(\n",
    "    [0.8, 0.2, 0.1, 0.9], \n",
    "    {'A': ['a1', 'a0'],'C': ['c1', 'c0']}\n",
    ")\n",
    "\n",
    "# Define a factor that holds the *conditional* distribution P(D|BC)\n",
    "fD_BC = Factor(\n",
    "    [0.95, 0.05, 0.9, 0.1,0.8, 0.2, 0.0, 1.0], \n",
    "    {'B': ['b1', 'b0'],'C': ['c1', 'c0'],'D': ['d1', 'd0']}\n",
    ")\n",
    "\n",
    "# P(E|C)\n",
    "fE_C = Factor(\n",
    "    [0.7, 0.3, 0.0, 1.0], \n",
    "    {'C': ['c1', 'c0'],'E': ['e1', 'e0']}\n",
    ")"
   ]
  },
  {
   "cell_type": "code",
   "execution_count": 4,
   "metadata": {},
   "outputs": [
    {
     "data": {
      "text/plain": [
       "factor(A)\n",
       "A\n",
       "a1    0.6\n",
       "a0    0.4\n",
       "dtype: float64"
      ]
     },
     "execution_count": 4,
     "metadata": {},
     "output_type": "execute_result"
    }
   ],
   "source": [
    "# fA is essentially a prior distribution.\n",
    "fA"
   ]
  },
  {
   "cell_type": "code",
   "execution_count": 5,
   "metadata": {},
   "outputs": [
    {
     "data": {
      "text/plain": [
       "factor(A,B)\n",
       "A   B \n",
       "a1  b1    0.20\n",
       "    b0    0.80\n",
       "a0  b1    0.75\n",
       "    b0    0.25\n",
       "dtype: float64"
      ]
     },
     "execution_count": 5,
     "metadata": {},
     "output_type": "execute_result"
    }
   ],
   "source": [
    "# fB_A is holds a conditional distribution: P(B|A)\n",
    "fB_A"
   ]
  },
  {
   "cell_type": "code",
   "execution_count": 6,
   "metadata": {},
   "outputs": [
    {
     "data": {
      "text/plain": [
       "factor(A,B)\n",
       "A   B \n",
       "a0  b0    0.10\n",
       "    b1    0.30\n",
       "a1  b0    0.48\n",
       "    b1    0.12\n",
       "dtype: float64"
      ]
     },
     "metadata": {},
     "output_type": "display_data"
    }
   ],
   "source": [
    "# Multiplying the factor with a *prior* with a *conditional* distribution, yields\n",
    "# a *joint* distribution.\n",
    "fAB = fA * fB_A\n",
    "display(fAB)"
   ]
  },
  {
   "cell_type": "code",
   "execution_count": 7,
   "metadata": {},
   "outputs": [
    {
     "data": {
      "text/plain": [
       "factor(B)\n",
       "B\n",
       "b0    0.58\n",
       "b1    0.42\n",
       "dtype: float64"
      ]
     },
     "execution_count": 7,
     "metadata": {},
     "output_type": "execute_result"
    }
   ],
   "source": [
    "# By summing out A, we'll get the prior over B\n",
    "fAB.sum_out('A')"
   ]
  },
  {
   "cell_type": "code",
   "execution_count": 8,
   "metadata": {},
   "outputs": [
    {
     "data": {
      "text/plain": [
       "B\n",
       "b0    0.58\n",
       "b1    0.42\n",
       "dtype: float64"
      ]
     },
     "execution_count": 8,
     "metadata": {},
     "output_type": "execute_result"
    }
   ],
   "source": [
    "# To get to this prior directly, we could also have taken the dot (matrix) product,\n",
    "# but we'd have to turn B_A into a matrix.\n",
    "fA.as_series().dot(fB_A.unstack())"
   ]
  },
  {
   "cell_type": "code",
   "execution_count": 9,
   "metadata": {},
   "outputs": [
    {
     "name": "stdout",
     "output_type": "stream",
     "text": [
      "matrices are not aligned\n"
     ]
    }
   ],
   "source": [
    "# Order matters in matrix multiplication: this will fail (although a better error message might\n",
    "# be helpful).\n",
    "try:\n",
    "    fB_A.as_series().dot(fA.as_series())\n",
    "except Exception as e:\n",
    "    print(e)"
   ]
  },
  {
   "cell_type": "code",
   "execution_count": 10,
   "metadata": {},
   "outputs": [
    {
     "data": {
      "text/html": [
       "<div>\n",
       "<style scoped>\n",
       "    .dataframe tbody tr th:only-of-type {\n",
       "        vertical-align: middle;\n",
       "    }\n",
       "\n",
       "    .dataframe tbody tr th {\n",
       "        vertical-align: top;\n",
       "    }\n",
       "\n",
       "    .dataframe thead th {\n",
       "        text-align: right;\n",
       "    }\n",
       "</style>\n",
       "<table border=\"1\" class=\"dataframe\">\n",
       "  <thead>\n",
       "    <tr style=\"text-align: right;\">\n",
       "      <th>B</th>\n",
       "      <th>b0</th>\n",
       "      <th>b1</th>\n",
       "    </tr>\n",
       "    <tr>\n",
       "      <th>A</th>\n",
       "      <th></th>\n",
       "      <th></th>\n",
       "    </tr>\n",
       "  </thead>\n",
       "  <tbody>\n",
       "    <tr>\n",
       "      <th>a0</th>\n",
       "      <td>0.25</td>\n",
       "      <td>0.75</td>\n",
       "    </tr>\n",
       "    <tr>\n",
       "      <th>a1</th>\n",
       "      <td>0.80</td>\n",
       "      <td>0.20</td>\n",
       "    </tr>\n",
       "  </tbody>\n",
       "</table>\n",
       "</div>"
      ],
      "text/plain": [
       "B     b0    b1\n",
       "A             \n",
       "a0  0.25  0.75\n",
       "a1  0.80  0.20"
      ]
     },
     "execution_count": 10,
     "metadata": {},
     "output_type": "execute_result"
    }
   ],
   "source": [
    "# Unstacking the conditional distribution makes it easy to see that the rows sum to 1.\n",
    "fB_A.unstack()"
   ]
  },
  {
   "cell_type": "code",
   "execution_count": null,
   "metadata": {},
   "outputs": [],
   "source": []
  }
 ],
 "metadata": {
  "kernelspec": {
   "display_name": "thomas",
   "language": "python",
   "name": "thomas"
  },
  "language_info": {
   "codemirror_mode": {
    "name": "ipython",
    "version": 3
   },
   "file_extension": ".py",
   "mimetype": "text/x-python",
   "name": "python",
   "nbconvert_exporter": "python",
   "pygments_lexer": "ipython3",
   "version": "3.6.10"
  }
 },
 "nbformat": 4,
 "nbformat_minor": 4
}
