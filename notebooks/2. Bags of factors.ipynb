{
 "cells": [
  {
   "cell_type": "markdown",
   "metadata": {},
   "source": [
    "# 2. Bags of Factors"
   ]
  },
  {
   "cell_type": "code",
   "execution_count": 1,
   "metadata": {},
   "outputs": [
    {
     "name": "stdout",
     "output_type": "stream",
     "text": [
      "The autoreload extension is already loaded. To reload it, use:\n",
      "  %reload_ext autoreload\n",
      "available imports:\n",
      "  import os\n",
      "  import logging\n",
      "  import pandas as pd\n",
      "  import numpy as np\n",
      "\n",
      "connect to this kernel with:\n",
      "  jupyter console --existing 81067729-db22-4dd6-b42a-ebeaa64a9794\n",
      "\n",
      "Logging to: \"/Users/melle/software-development/thomas-master/logs/2. Bags of factors.log\"\n"
     ]
    }
   ],
   "source": [
    "%run '_preamble.ipynb'"
   ]
  },
  {
   "cell_type": "code",
   "execution_count": 2,
   "metadata": {},
   "outputs": [],
   "source": [
    "from thomas.core.bag import Bag\n",
    "from thomas.core import examples\n",
    "\n",
    "from IPython.display import display, HTML"
   ]
  },
  {
   "cell_type": "markdown",
   "metadata": {},
   "source": [
    "### Sprinkler network"
   ]
  },
  {
   "cell_type": "code",
   "execution_count": 3,
   "metadata": {},
   "outputs": [],
   "source": [
    "# Get the Factors for the Sprinkler network\n",
    "fA, fB_A, fC_A, fD_BC, fE_C = examples.get_sprinkler_factors()"
   ]
  },
  {
   "cell_type": "code",
   "execution_count": 4,
   "metadata": {},
   "outputs": [],
   "source": [
    "# By putting the factors in a Bag, we can reason over them\n",
    "bag = Bag(factors=[fA, fB_A, fC_A, fD_BC, fE_C])"
   ]
  },
  {
   "cell_type": "code",
   "execution_count": 5,
   "metadata": {},
   "outputs": [
    {
     "data": {
      "text/plain": [
       "{'A', 'B', 'C', 'D', 'E'}"
      ]
     },
     "execution_count": 5,
     "metadata": {},
     "output_type": "execute_result"
    }
   ],
   "source": [
    "# The scope gives an overview of which variables are in the bag.\n",
    "bag.scope"
   ]
  },
  {
   "cell_type": "code",
   "execution_count": 6,
   "metadata": {},
   "outputs": [
    {
     "data": {
      "text/plain": [
       "factor(C)\n",
       "C\n",
       "c0    0.48\n",
       "c1    0.52\n",
       "dtype: float64"
      ]
     },
     "execution_count": 6,
     "metadata": {},
     "output_type": "execute_result"
    }
   ],
   "source": [
    "# Compute the factor over C\n",
    "bag.eliminate(['C'])"
   ]
  },
  {
   "cell_type": "code",
   "execution_count": 7,
   "metadata": {},
   "outputs": [
    {
     "data": {
      "text/plain": [
       "factor(C)\n",
       "C\n",
       "c0    0.12\n",
       "c1    0.48\n",
       "dtype: float64"
      ]
     },
     "execution_count": 7,
     "metadata": {},
     "output_type": "execute_result"
    }
   ],
   "source": [
    "# Compute the (unnormalized) factor over C and A=a1\n",
    "bag.eliminate(['C'], {'A': 'a1'})"
   ]
  },
  {
   "cell_type": "code",
   "execution_count": 8,
   "metadata": {},
   "outputs": [
    {
     "data": {
      "text/plain": [
       "'P(A=a1) = 0.6'"
      ]
     },
     "execution_count": 8,
     "metadata": {},
     "output_type": "execute_result"
    }
   ],
   "source": [
    "# From this we can deduce that P(A=a1) = 0.6\n",
    "Pa1 = bag.eliminate(['C'], {'A': 'a1'}).sum()\n",
    "f'P(A=a1) = {Pa1:.2}'"
   ]
  },
  {
   "cell_type": "code",
   "execution_count": 9,
   "metadata": {},
   "outputs": [
    {
     "data": {
      "text/plain": [
       "factor(C)\n",
       "C\n",
       "c0    0.2\n",
       "c1    0.8\n",
       "dtype: float64"
      ]
     },
     "execution_count": 9,
     "metadata": {},
     "output_type": "execute_result"
    }
   ],
   "source": [
    "# Normalizing is easy and gives the conditional probability P(C|A=a1)\n",
    "bag.eliminate(['C'], {'A': 'a1'}).normalize()"
   ]
  },
  {
   "cell_type": "code",
   "execution_count": 10,
   "metadata": {},
   "outputs": [
    {
     "data": {
      "text/plain": [
       "factor(A,C)\n",
       "A   C \n",
       "a0  c0    0.36\n",
       "    c1    0.04\n",
       "a1  c0    0.12\n",
       "    c1    0.48\n",
       "dtype: float64"
      ]
     },
     "execution_count": 10,
     "metadata": {},
     "output_type": "execute_result"
    }
   ],
   "source": [
    "# We can also compute the joint distribution over A and C. \n",
    "bag.eliminate(['A', 'C'])"
   ]
  },
  {
   "cell_type": "code",
   "execution_count": 11,
   "metadata": {},
   "outputs": [
    {
     "data": {
      "text/html": [
       "<div>\n",
       "<style scoped>\n",
       "    .dataframe tbody tr th:only-of-type {\n",
       "        vertical-align: middle;\n",
       "    }\n",
       "\n",
       "    .dataframe tbody tr th {\n",
       "        vertical-align: top;\n",
       "    }\n",
       "\n",
       "    .dataframe thead th {\n",
       "        text-align: right;\n",
       "    }\n",
       "</style>\n",
       "<table border=\"1\" class=\"dataframe\">\n",
       "  <thead>\n",
       "    <tr style=\"text-align: right;\">\n",
       "      <th>C</th>\n",
       "      <th>c0</th>\n",
       "      <th>c1</th>\n",
       "    </tr>\n",
       "    <tr>\n",
       "      <th>A</th>\n",
       "      <th></th>\n",
       "      <th></th>\n",
       "    </tr>\n",
       "  </thead>\n",
       "  <tbody>\n",
       "    <tr>\n",
       "      <th>a0</th>\n",
       "      <td>0.36</td>\n",
       "      <td>0.04</td>\n",
       "    </tr>\n",
       "    <tr>\n",
       "      <th>a1</th>\n",
       "      <td>0.12</td>\n",
       "      <td>0.48</td>\n",
       "    </tr>\n",
       "  </tbody>\n",
       "</table>\n",
       "</div>"
      ],
      "text/plain": [
       "C     c0    c1\n",
       "A             \n",
       "a0  0.36  0.04\n",
       "a1  0.12  0.48"
      ]
     },
     "execution_count": 11,
     "metadata": {},
     "output_type": "execute_result"
    }
   ],
   "source": [
    "# Calling `unstack` makes things a little easier on the eyes.\n",
    "bag.eliminate(['A', 'C']).unstack()"
   ]
  },
  {
   "cell_type": "code",
   "execution_count": 12,
   "metadata": {},
   "outputs": [
    {
     "data": {
      "text/plain": [
       "factor(A,B,C,D,E)\n",
       "A   B   C   D   E \n",
       "a0  b0  c0  d0  e0    0.09000\n",
       "                e1    0.00000\n",
       "            d1  e0    0.00000\n",
       "                e1    0.00000\n",
       "        c1  d0  e0    0.00060\n",
       "                e1    0.00140\n",
       "            d1  e0    0.00240\n",
       "                e1    0.00560\n",
       "    b1  c0  d0  e0    0.02700\n",
       "                e1    0.00000\n",
       "            d1  e0    0.24300\n",
       "                e1    0.00000\n",
       "        c1  d0  e0    0.00045\n",
       "                e1    0.00105\n",
       "            d1  e0    0.00855\n",
       "                e1    0.01995\n",
       "a1  b0  c0  d0  e0    0.09600\n",
       "                e1    0.00000\n",
       "            d1  e0    0.00000\n",
       "                e1    0.00000\n",
       "        c1  d0  e0    0.02304\n",
       "                e1    0.05376\n",
       "            d1  e0    0.09216\n",
       "                e1    0.21504\n",
       "    b1  c0  d0  e0    0.00240\n",
       "                e1    0.00000\n",
       "            d1  e0    0.02160\n",
       "                e1    0.00000\n",
       "        c1  d0  e0    0.00144\n",
       "                e1    0.00336\n",
       "            d1  e0    0.02736\n",
       "                e1    0.06384\n",
       "dtype: float64"
      ]
     },
     "execution_count": 12,
     "metadata": {},
     "output_type": "execute_result"
    }
   ],
   "source": [
    "# Or even over the entire joint distribution (bag.scope holds/returns a list of all \n",
    "# variables in the bag). Don't do this for anything other than really simple networks\n",
    "# as the number of entries in the JPT will blow up quickly.\n",
    "bag.eliminate(bag.scope).reorder_scope().sort_index()"
   ]
  },
  {
   "cell_type": "markdown",
   "metadata": {},
   "source": [
    "### Student Network"
   ]
  },
  {
   "cell_type": "code",
   "execution_count": 13,
   "metadata": {},
   "outputs": [],
   "source": [
    "factors = examples.get_student_CPTs()\n",
    "bag = Bag('Student', list(factors.values()))"
   ]
  },
  {
   "cell_type": "code",
   "execution_count": 14,
   "metadata": {},
   "outputs": [
    {
     "data": {
      "text/html": [
       "\n",
       "            <div>\n",
       "                <div style=\"margin-top:6px\">\n",
       "                    <span><b>P(G|I)</b></span>\n",
       "                    <span style=\"font-style: italic;\"></span>\n",
       "                    <div>\n",
       "<style scoped>\n",
       "    .dataframe tbody tr th:only-of-type {\n",
       "        vertical-align: middle;\n",
       "    }\n",
       "\n",
       "    .dataframe tbody tr th {\n",
       "        vertical-align: top;\n",
       "    }\n",
       "\n",
       "    .dataframe thead th {\n",
       "        text-align: right;\n",
       "    }\n",
       "</style>\n",
       "<table border=\"1\" class=\"dataframe\">\n",
       "  <thead>\n",
       "    <tr style=\"text-align: right;\">\n",
       "      <th>G</th>\n",
       "      <th>g1</th>\n",
       "      <th>g2</th>\n",
       "      <th>g3</th>\n",
       "    </tr>\n",
       "    <tr>\n",
       "      <th>I</th>\n",
       "      <th></th>\n",
       "      <th></th>\n",
       "      <th></th>\n",
       "    </tr>\n",
       "  </thead>\n",
       "  <tbody>\n",
       "    <tr>\n",
       "      <th>i0</th>\n",
       "      <td>0.20</td>\n",
       "      <td>0.340</td>\n",
       "      <td>0.460</td>\n",
       "    </tr>\n",
       "    <tr>\n",
       "      <th>i1</th>\n",
       "      <td>0.74</td>\n",
       "      <td>0.168</td>\n",
       "      <td>0.092</td>\n",
       "    </tr>\n",
       "  </tbody>\n",
       "</table>\n",
       "</div>\n",
       "                </div>\n",
       "            </div>\n",
       "        "
      ],
      "text/plain": [
       "P(G|I)\n",
       "I   G \n",
       "i0  g1    0.200\n",
       "    g2    0.340\n",
       "    g3    0.460\n",
       "i1  g1    0.740\n",
       "    g2    0.168\n",
       "    g3    0.092\n",
       "dtype: float64"
      ]
     },
     "execution_count": 14,
     "metadata": {},
     "output_type": "execute_result"
    }
   ],
   "source": [
    "bag.P('G|I')"
   ]
  },
  {
   "cell_type": "code",
   "execution_count": 15,
   "metadata": {},
   "outputs": [
    {
     "data": {
      "text/plain": [
       "['I', 'G']"
      ]
     },
     "execution_count": 15,
     "metadata": {},
     "output_type": "execute_result"
    }
   ],
   "source": [
    "# Order of the scope is important here, as it indicates which variable is the \n",
    "# conditioning variable.\n",
    "bag.P('G|I').scope"
   ]
  },
  {
   "cell_type": "code",
   "execution_count": 16,
   "metadata": {},
   "outputs": [
    {
     "data": {
      "text/plain": [
       "{'D', 'G', 'I', 'L', 'S'}"
      ]
     },
     "execution_count": 16,
     "metadata": {},
     "output_type": "execute_result"
    }
   ],
   "source": [
    "bag.scope"
   ]
  },
  {
   "cell_type": "code",
   "execution_count": null,
   "metadata": {},
   "outputs": [],
   "source": []
  }
 ],
 "metadata": {
  "kernelspec": {
   "display_name": "thomas",
   "language": "python",
   "name": "thomas"
  },
  "language_info": {
   "codemirror_mode": {
    "name": "ipython",
    "version": 3
   },
   "file_extension": ".py",
   "mimetype": "text/x-python",
   "name": "python",
   "nbconvert_exporter": "python",
   "pygments_lexer": "ipython3",
   "version": "3.6.10"
  },
  "toc-showtags": false
 },
 "nbformat": 4,
 "nbformat_minor": 4
}
